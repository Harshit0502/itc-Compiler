{
 "cells": [
  {
   "cell_type": "markdown",
   "metadata": {},
   "source": [
    "# Image-to-Code Compiler\n",
    "\n",
    "This Colab notebook demonstrates how to evaluate a mathematical expression contained in an image using the project's modules."
   ]
  },
  {
   "cell_type": "code",
   "metadata": {
    "id": "install"
   },
   "source": [
    "!pip install -q pytesseract opencv-python-headless ply graphviz"
   ],
   "execution_count": null,
   "outputs": []
  },
  {
   "cell_type": "code",
   "metadata": {
    "id": "upload"
   },
   "source": [
    "from google.colab import files\n",
    "uploaded = files.upload()\n",
    "image_path = next(iter(uploaded))\n",
    "print('Uploaded: ', image_path)"
   ],
   "execution_count": null,
   "outputs": []
  },
  {
   "cell_type": "code",
   "metadata": {
    "id": "display"
   },
   "source": [
    "from PIL import Image\n",
    "display(Image.open(image_path))"
   ],
   "execution_count": null,
   "outputs": []
  },
  {
   "cell_type": "code",
   "metadata": {
    "id": "process"
   },
   "source": [
    "from utils.image_cleaner import clean_image\n",
    "from ocr.extract_text import get_expression_from_image\n",
    "from compiler import lexer  # noqa: F401\n",
    "from compiler.parser import parser\n",
    "from compiler.evaluator import eval_ast\n",
    "\n",
    "cleaned = clean_image(image_path)\n",
    "print('Cleaned image saved to:', cleaned)\n",
    "expr = get_expression_from_image(image_path)\n",
    "print('Extracted expression:', expr)\n",
    "\n",
    "ast = parser.parse(expr)\n",
    "print('AST:', ast)\n",
    "result = eval_ast(ast)\n",
    "print('Result:', result)"
   ],
   "execution_count": null,
   "outputs": []
  }
 ],
 "metadata": {
  "kernelspec": {
   "display_name": "Python 3",
   "language": "python",
   "name": "python3"
  },
  "language_info": {
   "name": "python",
   "version": "3.x"
  }
 },
 "nbformat": 4,
 "nbformat_minor": 4
}
